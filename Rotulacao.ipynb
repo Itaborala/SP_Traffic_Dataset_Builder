{
 "cells": [
  {
   "cell_type": "code",
   "execution_count": 1,
   "metadata": {},
   "outputs": [],
   "source": [
    "import numpy as np\n",
    "import pandas as pd\n",
    "from datetime import datetime"
   ]
  },
  {
   "cell_type": "code",
   "execution_count": 2,
   "metadata": {},
   "outputs": [],
   "source": [
    "# ----- Constantes Globais ------\n",
    "\n",
    "#inicio do ano\n",
    "ida = datetime(2018, 1, 1, 0, 0)"
   ]
  },
  {
   "cell_type": "code",
   "execution_count": 18,
   "metadata": {},
   "outputs": [],
   "source": [
    "# ----- Funcoes ------\n",
    "\n",
    "def data2min (YYYY, MM, DD, hh, mm, i=ida):\n",
    "    '''Recebe uma informacao de\n",
    "    Data e Hora e calcula a quantidade\n",
    "    de minutos necessarios para aquela\n",
    "    data partindo do inicio do ano.\n",
    "    (MM/DD - hh:mm) -> mmmm'''\n",
    "    \n",
    "    data = datetime(YYYY, MM, DD, hh, mm)\n",
    "    dff = data-ida\n",
    "    \n",
    "    return int(dff.total_seconds()/60)\n",
    "\n",
    "def rotular_df(df):\n",
    "    '''Partindo do DataFrame extraido de\n",
    "    um CSV de um dia, cria uma lista de\n",
    "    rotulos referente aos instantes de medida'''\n",
    "    rotulos = []\n",
    "    for x in df.loc[:,'Ano':'Minuto'].values :\n",
    "        rotulos.append(data2min(*x))\n",
    "    return rotulos\n",
    "\n",
    "def operar_um_dia(lote, mes, dia):\n",
    "\n",
    "    #Carrega um arquivo CSV num DataFrame\n",
    "    df_dia = pd.read_csv(\"Trafego_CSV/\"+lote+\"/\"+mes+\"c/\"+dia+\".csv\")\n",
    "    \n",
    "    #Deleta as colunas 'Placa' e 'Velocidade Media'\n",
    "    df_dia = df_dia.drop(['Placa'], axis=1).iloc[:,:-1]\n",
    "    \n",
    "    #Cria uma lista com os Rotulos\n",
    "    rotulo = rotular_df(df_dia)\n",
    "    \n",
    "    #Insere os rotulos no DataFrame\n",
    "    df_dia['Indice de Minutos'] = rotulo\n",
    "    \n",
    "    #Escreve um novo CSV\n",
    "    df_dia.to_csv(\"Trafego_CSV/\"+lote+\"/\"+mes+\"p/\"+dia+\".csv\", index=False)\n",
    "    \n",
    "    return df_dia"
   ]
  },
  {
   "cell_type": "code",
   "execution_count": 27,
   "metadata": {},
   "outputs": [
    {
     "ename": "SyntaxError",
     "evalue": "unexpected EOF while parsing (<ipython-input-27-7e447a1166eb>, line 9)",
     "output_type": "error",
     "traceback": [
      "\u001b[0;36m  File \u001b[0;32m\"<ipython-input-27-7e447a1166eb>\"\u001b[0;36m, line \u001b[0;32m9\u001b[0m\n\u001b[0;31m    #df = operar_um_dia(lote, mes, dia)\u001b[0m\n\u001b[0m                                       ^\u001b[0m\n\u001b[0;31mSyntaxError\u001b[0m\u001b[0;31m:\u001b[0m unexpected EOF while parsing\n"
     ]
    }
   ],
   "source": [
    "#----- Operacao -----\n",
    "\n",
    "#parametros\n",
    "lote = 'L3'\n",
    "mes = '01'\n",
    "dias = ['01', '02', '03', '04', '05', \\\n",
    "        '06', '07', '08', '09', '10', \\\n",
    "        '11', '12', '13', '14', '15', \\\n",
    "        '16', '17', '18', '19', '20', \\\n",
    "        '21', '22', '23', '24', '25', \\\n",
    "        '26', '27', '28', '29', '30', '31']\n",
    "for dia in dias:\n",
    "    df = operar_um_dia(lote, mes, dia)\n"
   ]
  },
  {
   "cell_type": "code",
   "execution_count": null,
   "metadata": {},
   "outputs": [],
   "source": [
    "j='GBS9627'\n",
    "otp"
   ]
  },
  {
   "cell_type": "code",
   "execution_count": null,
   "metadata": {},
   "outputs": [],
   "source": []
  }
 ],
 "metadata": {
  "kernelspec": {
   "display_name": "Python 3",
   "language": "python",
   "name": "python3"
  },
  "language_info": {
   "codemirror_mode": {
    "name": "ipython",
    "version": 3
   },
   "file_extension": ".py",
   "mimetype": "text/x-python",
   "name": "python",
   "nbconvert_exporter": "python",
   "pygments_lexer": "ipython3",
   "version": "3.7.5"
  }
 },
 "nbformat": 4,
 "nbformat_minor": 2
}
